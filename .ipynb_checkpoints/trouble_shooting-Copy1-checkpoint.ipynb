{
 "cells": [
  {
   "cell_type": "code",
   "execution_count": 1,
   "id": "65d4d907-813c-4d3a-a7bd-917b0b5646fb",
   "metadata": {
    "scrolled": true
   },
   "outputs": [
    {
     "ename": "ModuleNotFoundError",
     "evalue": "No module named 'pandas'",
     "output_type": "error",
     "traceback": [
      "\u001b[0;31m---------------------------------------------------------------------------\u001b[0m",
      "\u001b[0;31mModuleNotFoundError\u001b[0m                       Traceback (most recent call last)",
      "Cell \u001b[0;32mIn[1], line 1\u001b[0m\n\u001b[0;32m----> 1\u001b[0m \u001b[38;5;28;01mimport\u001b[39;00m \u001b[38;5;21;01mpandas\u001b[39;00m \u001b[38;5;28;01mas\u001b[39;00m \u001b[38;5;21;01mpd\u001b[39;00m\n\u001b[1;32m      2\u001b[0m \u001b[38;5;28;01mimport\u001b[39;00m \u001b[38;5;21;01mmatplotlib\u001b[39;00m\u001b[38;5;21;01m.\u001b[39;00m\u001b[38;5;21;01mpyplot\u001b[39;00m \u001b[38;5;28;01mas\u001b[39;00m \u001b[38;5;21;01mplt\u001b[39;00m\n\u001b[1;32m      3\u001b[0m \u001b[38;5;28;01mfrom\u001b[39;00m \u001b[38;5;21;01mdatetime\u001b[39;00m \u001b[38;5;28;01mimport\u001b[39;00m datetime\n",
      "\u001b[0;31mModuleNotFoundError\u001b[0m: No module named 'pandas'"
     ]
    }
   ],
   "source": [
    "import pandas as pd\n",
    "import matplotlib.pyplot as plt\n",
    "from datetime import datetime\n",
    "from typing import NamedTuple\n",
    "import pytz\n",
    "import io\n",
    "import os\n",
    "plt.rcParams[\"figure.figsize\"] = (10, 7)\n",
    "import requests\n",
    "import duckdb\n",
    "\n",
    "import numpy as np"
   ]
  },
  {
   "cell_type": "code",
   "execution_count": null,
   "id": "4879bec1-a553-4e31-94fd-138f642a8d88",
   "metadata": {},
   "outputs": [],
   "source": [
    "def _get_auth(env_var: str = \"SELF\"):\n",
    "    return tuple(os.environ[env_var].split(\":\"))\n",
    "\n",
    "AUTH = _get_auth()\n",
    "def _get_dfm(url, auth=AUTH):\n",
    "# def _get_dfm(url):\n",
    "    resp = requests.get(url, auth=auth)\n",
    "    \n",
    "    if resp.status_code != 200:\n",
    "        print(resp.text)\n",
    "        resp.raise_for_status()\n",
    "        \n",
    "    dfm = pd.read_csv(\n",
    "        io.StringIO(\n",
    "            resp.text\n",
    "        )\n",
    "    )\n",
    "    \n",
    "    return dfm"
   ]
  },
  {
   "cell_type": "code",
   "execution_count": 6,
   "id": "85b31d90-8e7d-4868-95c2-b1d21ae51baa",
   "metadata": {},
   "outputs": [],
   "source": [
    "# Run this with the proper task name\n",
    "# TASK_UID=31ceeb4f-c01c-4e76-a717-291425624c23; for report in load bus generator branch; do mkdir -p $TASK_UID/$report; gsutil -m cp \"gs://marginalunit-placebo/runs/20240311t1950z/canonical-topology/$report/$TASK_UID*\" $TASK_UID/$report; done"
   ]
  },
  {
   "cell_type": "code",
   "execution_count": 7,
   "id": "2dd1d048-e00e-4ca7-be8f-9443914b88a2",
   "metadata": {},
   "outputs": [
    {
     "name": "stdout",
     "output_type": "stream",
     "text": [
      "\u001b[34m31ceeb4f-c01c-4e76-a717-291425624c23\u001b[m\u001b[m\n"
     ]
    }
   ],
   "source": [
    "!ls /Users/michael.simantov/Documents/draft/run-export"
   ]
  },
  {
   "cell_type": "code",
   "execution_count": 8,
   "id": "7b7a18f3-defd-49de-9760-16f86d5bc33e",
   "metadata": {},
   "outputs": [
    {
     "name": "stdout",
     "output_type": "stream",
     "text": [
      "\u001b[34mbranch\u001b[m\u001b[m    \u001b[34mbus\u001b[m\u001b[m       \u001b[34mgenerator\u001b[m\u001b[m \u001b[34mload\u001b[m\u001b[m\n"
     ]
    }
   ],
   "source": [
    "!ls /Users/michael.simantov/Documents/draft/run-export/31ceeb4f-c01c-4e76-a717-291425624c23"
   ]
  },
  {
   "cell_type": "code",
   "execution_count": 9,
   "id": "d0a2953b-ae8d-4b27-ac6b-c49fca486dc4",
   "metadata": {},
   "outputs": [],
   "source": [
    "root = \"/Users/michael.simantov/Documents/draft/run-export\"\n",
    "task_uid = \"31ceeb4f-c01c-4e76-a717-291425624c23\"\n",
    "path = f\"{root}/{task_uid}\""
   ]
  },
  {
   "cell_type": "code",
   "execution_count": 10,
   "id": "e84022ed-9600-4508-bbd5-6ced88572cb5",
   "metadata": {},
   "outputs": [],
   "source": [
    "bus_t =  duckdb.sql(\n",
    "    f\"\"\"\n",
    "    SELECT *, string_split(filename, '/')[-1] AS scenario_hour\n",
    "    FROM READ_PARQUET(\"{path}/bus/*.parquet\", filename=true)\n",
    "    \"\"\"\n",
    ")\n",
    "\n",
    "# branch_t =  duckdb.sql(\n",
    "#     f\"\"\"\n",
    "#     SELECT *, string_split(filename, '/')[-1] AS scenario_hour\n",
    "#     FROM READ_PARQUET(\"{path}/branch/*.parquet\", filename=true)\n",
    "#     \"\"\"\n",
    "# )\n",
    "\n",
    "\n",
    "generator_t =  duckdb.sql(\n",
    "    f\"\"\"\n",
    "    SELECT *, string_split(filename, '/')[-1] AS scenario_hour\n",
    "    FROM READ_PARQUET(\"{path}/generator/*.parquet\", filename=true)\n",
    "    \"\"\"\n",
    ")\n",
    "\n",
    "load_t =  duckdb.sql(\n",
    "    f\"\"\"\n",
    "    SELECT *, string_split(filename, '/')[-1] AS scenario_hour\n",
    "    FROM READ_PARQUET(\"{path}/load/*.parquet\", filename=true)\n",
    "    \"\"\"\n",
    ")"
   ]
  },
  {
   "cell_type": "code",
   "execution_count": 11,
   "id": "2a3a459b-5768-42e6-9379-31e713b080ba",
   "metadata": {},
   "outputs": [],
   "source": [
    "db = duckdb.sql(\n",
    "    \"\"\"\n",
    "    SELECT bus_t.scenario_hour, uid, bus_t.name, pl, pg,  FROM bus_t\n",
    "    LEFT JOIN (\n",
    "        SELECT bus_id, scenario_hour, SUM(pl) as pl FROM load_t GROUP BY bus_id, scenario_hour\n",
    "    ) ld\n",
    "    ON bus_t.id = ld.bus_id AND bus_t.scenario_hour = ld.scenario_hour\n",
    "    LEFT JOIN (\n",
    "        SELECT bus_id, scenario_hour, SUM(pg) as pg FROM generator_t GROUP BY bus_id, scenario_hour\n",
    "    ) g\n",
    "    ON bus_t.id = g.bus_id AND bus_t.scenario_hour = g.scenario_hour\n",
    "    \"\"\"\n",
    ")"
   ]
  },
  {
   "cell_type": "code",
   "execution_count": 12,
   "id": "d45254aa-e5c7-450e-9052-79b57e10e3e5",
   "metadata": {},
   "outputs": [],
   "source": [
    "dfm = db.to_df()\n",
    "dfm[\"timestamp\"] = pd.to_datetime(\n",
    "    dfm.scenario_hour.map(lambda v: v.split(\"--\")[-1].split(\".\")[0])\n",
    ").dt.tz_convert(\"US/Central\")"
   ]
  },
  {
   "cell_type": "code",
   "execution_count": 13,
   "id": "cf15fc54-f3be-4004-9c48-a01dd6d67aaa",
   "metadata": {
    "tags": []
   },
   "outputs": [
    {
     "data": {
      "text/html": [
       "<div>\n",
       "<style scoped>\n",
       "    .dataframe tbody tr th:only-of-type {\n",
       "        vertical-align: middle;\n",
       "    }\n",
       "\n",
       "    .dataframe tbody tr th {\n",
       "        vertical-align: top;\n",
       "    }\n",
       "\n",
       "    .dataframe thead th {\n",
       "        text-align: right;\n",
       "    }\n",
       "</style>\n",
       "<table border=\"1\" class=\"dataframe\">\n",
       "  <thead>\n",
       "    <tr style=\"text-align: right;\">\n",
       "      <th></th>\n",
       "      <th>scenario_hour</th>\n",
       "      <th>uid</th>\n",
       "      <th>name</th>\n",
       "      <th>pl</th>\n",
       "      <th>pg</th>\n",
       "      <th>timestamp</th>\n",
       "    </tr>\n",
       "  </thead>\n",
       "  <tbody>\n",
       "    <tr>\n",
       "      <th>0</th>\n",
       "      <td>31ceeb4f-c01c-4e76-a717-291425624c23 -- 2024-0...</td>\n",
       "      <td>FORMOSA_13KV_2</td>\n",
       "      <td>FORMOSA</td>\n",
       "      <td>0.0</td>\n",
       "      <td>0.000000</td>\n",
       "      <td>2024-02-24 06:00:00-06:00</td>\n",
       "    </tr>\n",
       "    <tr>\n",
       "      <th>1</th>\n",
       "      <td>31ceeb4f-c01c-4e76-a717-291425624c23 -- 2024-0...</td>\n",
       "      <td>PR_13KV_1</td>\n",
       "      <td>PR</td>\n",
       "      <td>0.0</td>\n",
       "      <td>0.000000</td>\n",
       "      <td>2024-02-24 06:00:00-06:00</td>\n",
       "    </tr>\n",
       "    <tr>\n",
       "      <th>2</th>\n",
       "      <td>31ceeb4f-c01c-4e76-a717-291425624c23 -- 2024-0...</td>\n",
       "      <td>BTE_18KV_2</td>\n",
       "      <td>BTE</td>\n",
       "      <td>0.0</td>\n",
       "      <td>0.000000</td>\n",
       "      <td>2024-02-24 06:00:00-06:00</td>\n",
       "    </tr>\n",
       "    <tr>\n",
       "      <th>3</th>\n",
       "      <td>31ceeb4f-c01c-4e76-a717-291425624c23 -- 2024-0...</td>\n",
       "      <td>CVC_18KV_3</td>\n",
       "      <td>CVC</td>\n",
       "      <td>0.0</td>\n",
       "      <td>572.075879</td>\n",
       "      <td>2024-02-24 06:00:00-06:00</td>\n",
       "    </tr>\n",
       "    <tr>\n",
       "      <th>4</th>\n",
       "      <td>31ceeb4f-c01c-4e76-a717-291425624c23 -- 2024-0...</td>\n",
       "      <td>THW_13KV_1</td>\n",
       "      <td>THW</td>\n",
       "      <td>0.0</td>\n",
       "      <td>0.000000</td>\n",
       "      <td>2024-02-24 06:00:00-06:00</td>\n",
       "    </tr>\n",
       "    <tr>\n",
       "      <th>...</th>\n",
       "      <td>...</td>\n",
       "      <td>...</td>\n",
       "      <td>...</td>\n",
       "      <td>...</td>\n",
       "      <td>...</td>\n",
       "      <td>...</td>\n",
       "    </tr>\n",
       "    <tr>\n",
       "      <th>1343623</th>\n",
       "      <td>31ceeb4f-c01c-4e76-a717-291425624c23 -- 2024-0...</td>\n",
       "      <td>WIRTZ_13KV_2</td>\n",
       "      <td>WIRTZ</td>\n",
       "      <td>0.0</td>\n",
       "      <td>0.000000</td>\n",
       "      <td>2024-02-29 22:00:00-06:00</td>\n",
       "    </tr>\n",
       "    <tr>\n",
       "      <th>1343624</th>\n",
       "      <td>31ceeb4f-c01c-4e76-a717-291425624c23 -- 2024-0...</td>\n",
       "      <td>BASTEN_18KV_3</td>\n",
       "      <td>BASTEN</td>\n",
       "      <td>0.0</td>\n",
       "      <td>487.209395</td>\n",
       "      <td>2024-02-29 22:00:00-06:00</td>\n",
       "    </tr>\n",
       "    <tr>\n",
       "      <th>1343625</th>\n",
       "      <td>31ceeb4f-c01c-4e76-a717-291425624c23 -- 2024-0...</td>\n",
       "      <td>PEARSAL2_13KV_1</td>\n",
       "      <td>PEARSAL2</td>\n",
       "      <td>0.0</td>\n",
       "      <td>0.000000</td>\n",
       "      <td>2024-02-29 22:00:00-06:00</td>\n",
       "    </tr>\n",
       "    <tr>\n",
       "      <th>1343626</th>\n",
       "      <td>31ceeb4f-c01c-4e76-a717-291425624c23 -- 2024-0...</td>\n",
       "      <td>FALCON_6KV_2</td>\n",
       "      <td>FALCON</td>\n",
       "      <td>0.0</td>\n",
       "      <td>0.000000</td>\n",
       "      <td>2024-02-25 09:00:00-06:00</td>\n",
       "    </tr>\n",
       "    <tr>\n",
       "      <th>1343627</th>\n",
       "      <td>31ceeb4f-c01c-4e76-a717-291425624c23 -- 2024-0...</td>\n",
       "      <td>FERMI_34KV_1</td>\n",
       "      <td>FERMI</td>\n",
       "      <td>0.0</td>\n",
       "      <td>46.343378</td>\n",
       "      <td>2024-02-29 07:00:00-06:00</td>\n",
       "    </tr>\n",
       "  </tbody>\n",
       "</table>\n",
       "<p>1343628 rows × 6 columns</p>\n",
       "</div>"
      ],
      "text/plain": [
       "                                             scenario_hour              uid  \\\n",
       "0        31ceeb4f-c01c-4e76-a717-291425624c23 -- 2024-0...   FORMOSA_13KV_2   \n",
       "1        31ceeb4f-c01c-4e76-a717-291425624c23 -- 2024-0...        PR_13KV_1   \n",
       "2        31ceeb4f-c01c-4e76-a717-291425624c23 -- 2024-0...       BTE_18KV_2   \n",
       "3        31ceeb4f-c01c-4e76-a717-291425624c23 -- 2024-0...       CVC_18KV_3   \n",
       "4        31ceeb4f-c01c-4e76-a717-291425624c23 -- 2024-0...       THW_13KV_1   \n",
       "...                                                    ...              ...   \n",
       "1343623  31ceeb4f-c01c-4e76-a717-291425624c23 -- 2024-0...     WIRTZ_13KV_2   \n",
       "1343624  31ceeb4f-c01c-4e76-a717-291425624c23 -- 2024-0...    BASTEN_18KV_3   \n",
       "1343625  31ceeb4f-c01c-4e76-a717-291425624c23 -- 2024-0...  PEARSAL2_13KV_1   \n",
       "1343626  31ceeb4f-c01c-4e76-a717-291425624c23 -- 2024-0...     FALCON_6KV_2   \n",
       "1343627  31ceeb4f-c01c-4e76-a717-291425624c23 -- 2024-0...     FERMI_34KV_1   \n",
       "\n",
       "             name   pl          pg                 timestamp  \n",
       "0         FORMOSA  0.0    0.000000 2024-02-24 06:00:00-06:00  \n",
       "1              PR  0.0    0.000000 2024-02-24 06:00:00-06:00  \n",
       "2             BTE  0.0    0.000000 2024-02-24 06:00:00-06:00  \n",
       "3             CVC  0.0  572.075879 2024-02-24 06:00:00-06:00  \n",
       "4             THW  0.0    0.000000 2024-02-24 06:00:00-06:00  \n",
       "...           ...  ...         ...                       ...  \n",
       "1343623     WIRTZ  0.0    0.000000 2024-02-29 22:00:00-06:00  \n",
       "1343624    BASTEN  0.0  487.209395 2024-02-29 22:00:00-06:00  \n",
       "1343625  PEARSAL2  0.0    0.000000 2024-02-29 22:00:00-06:00  \n",
       "1343626    FALCON  0.0    0.000000 2024-02-25 09:00:00-06:00  \n",
       "1343627     FERMI  0.0   46.343378 2024-02-29 07:00:00-06:00  \n",
       "\n",
       "[1343628 rows x 6 columns]"
      ]
     },
     "execution_count": 13,
     "metadata": {},
     "output_type": "execute_result"
    }
   ],
   "source": [
    "dfm"
   ]
  },
  {
   "cell_type": "code",
   "execution_count": 14,
   "id": "b70b3289-c203-4c2e-919a-90001ca200f2",
   "metadata": {
    "tags": []
   },
   "outputs": [],
   "source": [
    "CASE_CODE = \"ercot_rt_se_20231023_H17\"\n",
    "COLLECTION = \"ercot-rt-se.dev\"\n",
    "\n",
    "df_branches = _get_dfm(f\"https://api1.marginalunit.com/reflow/{COLLECTION}/{CASE_CODE}/branches\")  # fetch branches\n",
    "df_mapping_logical = _get_dfm(f\"https://api1.marginalunit.com/rms/ercot/grouped-constraints/{COLLECTION}/monitored-branch-mappings\")\n",
    "df_contingencies = _get_dfm(f\"https://api1.marginalunit.com/reflow/{COLLECTION}/{CASE_CODE}/contingencies\")"
   ]
  },
  {
   "cell_type": "code",
   "execution_count": 15,
   "id": "08a050d0-3e00-4213-a4dd-db7dec8b17f8",
   "metadata": {
    "tags": []
   },
   "outputs": [
    {
     "data": {
      "text/plain": [
       "['FRIEND_OZONA1_1']"
      ]
     },
     "execution_count": 15,
     "metadata": {},
     "output_type": "execute_result"
    }
   ],
   "source": [
    "# MONITORED_UID = \"6036__A,TKWSW,345.0,MGSES,345.0\"\n",
    "# CONTINGENCY_UID = \"SMDOPHR5\"\n",
    "CONTINGENCY_UID = \"SOZNFRI9\"\n",
    "\n",
    "# monitored = df_mapping_logical[df_mapping_logical.monitored_uid == MONITORED_UID].iloc[0].branch_uid\n",
    "# monitored = \"138_ALV_NAL_1\"\n",
    "monitored = \"BIGLAK_PHBL_T1_1\"\n",
    "\n",
    "contingency_branches = list(df_contingencies[df_contingencies.contingency_name == CONTINGENCY_UID].branch_name)\n",
    "contingency_branches"
   ]
  },
  {
   "cell_type": "code",
   "execution_count": 16,
   "id": "0792e1af-74f3-4180-afc7-064525f6803c",
   "metadata": {},
   "outputs": [],
   "source": [
    "dfb_reflow = _get_dfm(f\"https://api1.marginalunit.com/reflow/{COLLECTION}/{CASE_CODE}/buses?columns=memo,name,pg,pl\")\n",
    "df_sf_reflow = _get_dfm(\n",
    "    f\"https://api1.marginalunit.com/reflow/{COLLECTION}/{CASE_CODE}/constraint_exposure/buses?monitored={monitored}&outaged={','.join(contingency_branches)}\"\n",
    ")"
   ]
  },
  {
   "cell_type": "code",
   "execution_count": 17,
   "id": "e1ab1481-d941-4af1-9261-724a2d4492c5",
   "metadata": {},
   "outputs": [],
   "source": [
    "# Check it works:\n",
    "# f\"https://api1.marginalunit.com/reflow/{COLLECTION}/{CASE_CODE}/constraint_exposure/buses?monitored={monitored}&outaged={','.join(contingency_branches)}\""
   ]
  },
  {
   "cell_type": "code",
   "execution_count": 18,
   "id": "ed21dd43-0456-4acf-978b-21140c9111b8",
   "metadata": {},
   "outputs": [
    {
     "data": {
      "text/plain": [
       "min   2024-02-24 00:00:00-06:00\n",
       "max   2024-02-29 23:00:00-06:00\n",
       "Name: timestamp, dtype: datetime64[ns, US/Central]"
      ]
     },
     "execution_count": 18,
     "metadata": {},
     "output_type": "execute_result"
    }
   ],
   "source": [
    "dfm.timestamp.agg(['min', 'max'])"
   ]
  },
  {
   "cell_type": "code",
   "execution_count": 19,
   "id": "134bf9c7-60f1-4889-bc81-20fcbce9248e",
   "metadata": {},
   "outputs": [],
   "source": [
    "# SELECTED_DATETIME = \"2023-10-23 16:00:00-05:00\"\n",
    "SELECTED_DATETIME = \"2024-02-27 08:00:00-06:00\"  # works!"
   ]
  },
  {
   "cell_type": "code",
   "execution_count": 20,
   "id": "c7d8ac09-0cb7-4f47-9574-ef84af170889",
   "metadata": {
    "tags": []
   },
   "outputs": [
    {
     "data": {
      "text/html": [
       "<div>\n",
       "<style scoped>\n",
       "    .dataframe tbody tr th:only-of-type {\n",
       "        vertical-align: middle;\n",
       "    }\n",
       "\n",
       "    .dataframe tbody tr th {\n",
       "        vertical-align: top;\n",
       "    }\n",
       "\n",
       "    .dataframe thead th {\n",
       "        text-align: right;\n",
       "    }\n",
       "</style>\n",
       "<table border=\"1\" class=\"dataframe\">\n",
       "  <thead>\n",
       "    <tr style=\"text-align: right;\">\n",
       "      <th></th>\n",
       "      <th>scenario_hour</th>\n",
       "      <th>uid</th>\n",
       "      <th>name</th>\n",
       "      <th>pl</th>\n",
       "      <th>pg</th>\n",
       "      <th>timestamp</th>\n",
       "    </tr>\n",
       "  </thead>\n",
       "  <tbody>\n",
       "    <tr>\n",
       "      <th>1163946</th>\n",
       "      <td>31ceeb4f-c01c-4e76-a717-291425624c23 -- 2024-0...</td>\n",
       "      <td>TC_13KV_1</td>\n",
       "      <td>TC</td>\n",
       "      <td>0.000000</td>\n",
       "      <td>37.000000</td>\n",
       "      <td>2024-02-27 08:00:00-06:00</td>\n",
       "    </tr>\n",
       "    <tr>\n",
       "      <th>1163947</th>\n",
       "      <td>31ceeb4f-c01c-4e76-a717-291425624c23 -- 2024-0...</td>\n",
       "      <td>PR_13KV_1</td>\n",
       "      <td>PR</td>\n",
       "      <td>0.000000</td>\n",
       "      <td>0.000000</td>\n",
       "      <td>2024-02-27 08:00:00-06:00</td>\n",
       "    </tr>\n",
       "    <tr>\n",
       "      <th>1163948</th>\n",
       "      <td>31ceeb4f-c01c-4e76-a717-291425624c23 -- 2024-0...</td>\n",
       "      <td>BTE_18KV_2</td>\n",
       "      <td>BTE</td>\n",
       "      <td>0.000000</td>\n",
       "      <td>0.000000</td>\n",
       "      <td>2024-02-27 08:00:00-06:00</td>\n",
       "    </tr>\n",
       "    <tr>\n",
       "      <th>1163949</th>\n",
       "      <td>31ceeb4f-c01c-4e76-a717-291425624c23 -- 2024-0...</td>\n",
       "      <td>CVC_18KV_3</td>\n",
       "      <td>CVC</td>\n",
       "      <td>0.000000</td>\n",
       "      <td>572.075879</td>\n",
       "      <td>2024-02-27 08:00:00-06:00</td>\n",
       "    </tr>\n",
       "    <tr>\n",
       "      <th>1163950</th>\n",
       "      <td>31ceeb4f-c01c-4e76-a717-291425624c23 -- 2024-0...</td>\n",
       "      <td>THW_13KV_1</td>\n",
       "      <td>THW</td>\n",
       "      <td>0.000000</td>\n",
       "      <td>0.000000</td>\n",
       "      <td>2024-02-27 08:00:00-06:00</td>\n",
       "    </tr>\n",
       "    <tr>\n",
       "      <th>...</th>\n",
       "      <td>...</td>\n",
       "      <td>...</td>\n",
       "      <td>...</td>\n",
       "      <td>...</td>\n",
       "      <td>...</td>\n",
       "      <td>...</td>\n",
       "    </tr>\n",
       "    <tr>\n",
       "      <th>1230306</th>\n",
       "      <td>31ceeb4f-c01c-4e76-a717-291425624c23 -- 2024-0...</td>\n",
       "      <td>RINGGOLD_69KV_1</td>\n",
       "      <td>RINGGOLD</td>\n",
       "      <td>8.681969</td>\n",
       "      <td>NaN</td>\n",
       "      <td>2024-02-27 08:00:00-06:00</td>\n",
       "    </tr>\n",
       "    <tr>\n",
       "      <th>1230307</th>\n",
       "      <td>31ceeb4f-c01c-4e76-a717-291425624c23 -- 2024-0...</td>\n",
       "      <td>NOVA1SLR_34KV_2</td>\n",
       "      <td>NOVA1SLR</td>\n",
       "      <td>0.000000</td>\n",
       "      <td>NaN</td>\n",
       "      <td>2024-02-27 08:00:00-06:00</td>\n",
       "    </tr>\n",
       "    <tr>\n",
       "      <th>1230855</th>\n",
       "      <td>31ceeb4f-c01c-4e76-a717-291425624c23 -- 2024-0...</td>\n",
       "      <td>THW_13KV_3</td>\n",
       "      <td>THW</td>\n",
       "      <td>0.000000</td>\n",
       "      <td>0.000000</td>\n",
       "      <td>2024-02-27 08:00:00-06:00</td>\n",
       "    </tr>\n",
       "    <tr>\n",
       "      <th>1230856</th>\n",
       "      <td>31ceeb4f-c01c-4e76-a717-291425624c23 -- 2024-0...</td>\n",
       "      <td>JAY_34KV_2</td>\n",
       "      <td>JAY</td>\n",
       "      <td>0.000000</td>\n",
       "      <td>53.414089</td>\n",
       "      <td>2024-02-27 08:00:00-06:00</td>\n",
       "    </tr>\n",
       "    <tr>\n",
       "      <th>1230857</th>\n",
       "      <td>31ceeb4f-c01c-4e76-a717-291425624c23 -- 2024-0...</td>\n",
       "      <td>BULLCRK_34KV_1</td>\n",
       "      <td>BULLCRK</td>\n",
       "      <td>0.000000</td>\n",
       "      <td>76.535565</td>\n",
       "      <td>2024-02-27 08:00:00-06:00</td>\n",
       "    </tr>\n",
       "  </tbody>\n",
       "</table>\n",
       "<p>9396 rows × 6 columns</p>\n",
       "</div>"
      ],
      "text/plain": [
       "                                             scenario_hour              uid  \\\n",
       "1163946  31ceeb4f-c01c-4e76-a717-291425624c23 -- 2024-0...        TC_13KV_1   \n",
       "1163947  31ceeb4f-c01c-4e76-a717-291425624c23 -- 2024-0...        PR_13KV_1   \n",
       "1163948  31ceeb4f-c01c-4e76-a717-291425624c23 -- 2024-0...       BTE_18KV_2   \n",
       "1163949  31ceeb4f-c01c-4e76-a717-291425624c23 -- 2024-0...       CVC_18KV_3   \n",
       "1163950  31ceeb4f-c01c-4e76-a717-291425624c23 -- 2024-0...       THW_13KV_1   \n",
       "...                                                    ...              ...   \n",
       "1230306  31ceeb4f-c01c-4e76-a717-291425624c23 -- 2024-0...  RINGGOLD_69KV_1   \n",
       "1230307  31ceeb4f-c01c-4e76-a717-291425624c23 -- 2024-0...  NOVA1SLR_34KV_2   \n",
       "1230855  31ceeb4f-c01c-4e76-a717-291425624c23 -- 2024-0...       THW_13KV_3   \n",
       "1230856  31ceeb4f-c01c-4e76-a717-291425624c23 -- 2024-0...       JAY_34KV_2   \n",
       "1230857  31ceeb4f-c01c-4e76-a717-291425624c23 -- 2024-0...   BULLCRK_34KV_1   \n",
       "\n",
       "             name        pl          pg                 timestamp  \n",
       "1163946        TC  0.000000   37.000000 2024-02-27 08:00:00-06:00  \n",
       "1163947        PR  0.000000    0.000000 2024-02-27 08:00:00-06:00  \n",
       "1163948       BTE  0.000000    0.000000 2024-02-27 08:00:00-06:00  \n",
       "1163949       CVC  0.000000  572.075879 2024-02-27 08:00:00-06:00  \n",
       "1163950       THW  0.000000    0.000000 2024-02-27 08:00:00-06:00  \n",
       "...           ...       ...         ...                       ...  \n",
       "1230306  RINGGOLD  8.681969         NaN 2024-02-27 08:00:00-06:00  \n",
       "1230307  NOVA1SLR  0.000000         NaN 2024-02-27 08:00:00-06:00  \n",
       "1230855       THW  0.000000    0.000000 2024-02-27 08:00:00-06:00  \n",
       "1230856       JAY  0.000000   53.414089 2024-02-27 08:00:00-06:00  \n",
       "1230857   BULLCRK  0.000000   76.535565 2024-02-27 08:00:00-06:00  \n",
       "\n",
       "[9396 rows x 6 columns]"
      ]
     },
     "execution_count": 20,
     "metadata": {},
     "output_type": "execute_result"
    }
   ],
   "source": [
    "# make sure data exist\n",
    "dfm[dfm.timestamp == SELECTED_DATETIME]"
   ]
  },
  {
   "cell_type": "code",
   "execution_count": 21,
   "id": "552e8bf3-a16a-4054-896f-1f868546f448",
   "metadata": {},
   "outputs": [],
   "source": [
    "dff = pd.merge(\n",
    "    dfm[dfm.timestamp == SELECTED_DATETIME].set_index(\"uid\", verify_integrity=True)[[\"name\", \"pg\", \"pl\"]],\n",
    "    dfb_reflow.set_index(\"memo\")[[\"pg\", \"pl\"]],\n",
    "    left_index=True,\n",
    "    right_index=True,\n",
    "    suffixes=(\"_p\", \"_r\")\n",
    ").fillna(0)\n",
    "\n",
    "dff[\"net_inj_p\"] = dff.pg_p - dff.pl_p\n",
    "dff[\"net_inj_r\"] = dff.pg_r - dff.pl_r\n",
    "\n",
    "dff = pd.merge(\n",
    "    dff,\n",
    "    df_sf_reflow.set_index(\"bus_memo\")[[\"exposure\"]],\n",
    "    left_index=True,\n",
    "    right_index=True\n",
    ")\n",
    "\n",
    "dff[\"impact_p\"] = dff.net_inj_p * dff.exposure\n",
    "dff[\"impact_r\"] = dff.net_inj_r * dff.exposure\n",
    "dff[\"impact_diff\"] = dff.impact_p - dff.impact_r"
   ]
  },
  {
   "cell_type": "code",
   "execution_count": 22,
   "id": "22fc5a36-afba-43d7-b730-bb3c87f5179f",
   "metadata": {},
   "outputs": [
    {
     "name": "stderr",
     "output_type": "stream",
     "text": [
      "/Users/michael.simantov/anaconda3/envs/Michael_env/lib/python3.8/site-packages/pandas/plotting/_matplotlib/core.py:1114: UserWarning: No data for colormapping provided via 'c'. Parameters 'cmap' will be ignored\n",
      "  scatter = ax.scatter(\n"
     ]
    },
    {
     "data": {
      "text/plain": [
       "Text(0.5, 1.0, 'Impact diff between Reflow and P&RF for 2024-02-27 08:00:00-06:00')"
      ]
     },
     "execution_count": 22,
     "metadata": {},
     "output_type": "execute_result"
    },
    {
     "data": {
      "image/png": "[encoded data removed]",
      "text/plain": [
       "<Figure size 1000x700 with 1 Axes>"
      ]
     },
     "metadata": {},
     "output_type": "display_data"
    }
   ],
   "source": [
    "agg_fn =  {\n",
    "    c: \"sum\"\n",
    "    for c in dff.columns\n",
    "    if c != \"name\"\n",
    "}\n",
    "agg_fn[\"exposure\"] = \"mean\"\n",
    "\n",
    "\n",
    "dffa = dff.groupby(\"name\").agg(agg_fn)\n",
    "dffa[\"abs_impact_diff\"] = abs(dffa.impact_p - dffa.impact_r)\n",
    "\n",
    "dffa.plot(\n",
    "    kind=\"scatter\",\n",
    "    x=\"impact_r\",\n",
    "    y=\"impact_p\",\n",
    "    grid=True\n",
    ")\n",
    "\n",
    "x = np.linspace(\n",
    "    dffa.impact_r.min(),\n",
    "    dffa.impact_r.max()\n",
    ")\n",
    "\n",
    "plt.plot(x, x, color=\"red\")\n",
    "\n",
    "plt.title(f\"Impact diff between Reflow and P&RF for {SELECTED_DATETIME}\")"
   ]
  },
  {
   "cell_type": "code",
   "execution_count": 338,
   "id": "7c012262-1f4e-4f87-8112-9686c97c82ea",
   "metadata": {},
   "outputs": [
    {
     "data": {
      "text/plain": [
       "-1.3709040595276254"
      ]
     },
     "execution_count": 338,
     "metadata": {},
     "output_type": "execute_result"
    }
   ],
   "source": [
    "dffa.impact_diff.sum()"
   ]
  },
  {
   "cell_type": "code",
   "execution_count": 339,
   "id": "a5ea3af7-5eab-40b3-8fe6-077acef74fc5",
   "metadata": {},
   "outputs": [
    {
     "data": {
      "text/plain": [
       "-6.163172989999999"
      ]
     },
     "execution_count": 339,
     "metadata": {},
     "output_type": "execute_result"
    }
   ],
   "source": [
    "-dffa.impact_r.sum()"
   ]
  },
  {
   "cell_type": "code",
   "execution_count": 340,
   "id": "05afe848-0ef2-4021-bffd-6002388166b0",
   "metadata": {},
   "outputs": [
    {
     "data": {
      "text/plain": [
       "-4.792268930472374"
      ]
     },
     "execution_count": 340,
     "metadata": {},
     "output_type": "execute_result"
    }
   ],
   "source": [
    "-dffa.impact_p.sum()"
   ]
  },
  {
   "cell_type": "code",
   "execution_count": 341,
   "id": "aaa0d139-b5ca-4c01-9e72-d5e399008ea3",
   "metadata": {},
   "outputs": [
    {
     "data": {
      "text/html": [
       "<div>\n",
       "<style scoped>\n",
       "    .dataframe tbody tr th:only-of-type {\n",
       "        vertical-align: middle;\n",
       "    }\n",
       "\n",
       "    .dataframe tbody tr th {\n",
       "        vertical-align: top;\n",
       "    }\n",
       "\n",
       "    .dataframe thead th {\n",
       "        text-align: right;\n",
       "    }\n",
       "</style>\n",
       "<table border=\"1\" class=\"dataframe\">\n",
       "  <thead>\n",
       "    <tr style=\"text-align: right;\">\n",
       "      <th></th>\n",
       "      <th>pg_p</th>\n",
       "      <th>pl_p</th>\n",
       "      <th>pg_r</th>\n",
       "      <th>pl_r</th>\n",
       "      <th>net_inj_p</th>\n",
       "      <th>net_inj_r</th>\n",
       "      <th>exposure</th>\n",
       "      <th>impact_p</th>\n",
       "      <th>impact_r</th>\n",
       "      <th>impact_diff</th>\n",
       "      <th>abs_impact_diff</th>\n",
       "    </tr>\n",
       "    <tr>\n",
       "      <th>name</th>\n",
       "      <th></th>\n",
       "      <th></th>\n",
       "      <th></th>\n",
       "      <th></th>\n",
       "      <th></th>\n",
       "      <th></th>\n",
       "      <th></th>\n",
       "      <th></th>\n",
       "      <th></th>\n",
       "      <th></th>\n",
       "      <th></th>\n",
       "    </tr>\n",
       "  </thead>\n",
       "  <tbody>\n",
       "    <tr>\n",
       "      <th>APPALOSA</th>\n",
       "      <td>0.000000</td>\n",
       "      <td>0.000000</td>\n",
       "      <td>161.757</td>\n",
       "      <td>0.000</td>\n",
       "      <td>0.000000</td>\n",
       "      <td>161.757</td>\n",
       "      <td>-0.009430</td>\n",
       "      <td>0.000000</td>\n",
       "      <td>-1.525369</td>\n",
       "      <td>1.525369</td>\n",
       "      <td>1.525369</td>\n",
       "    </tr>\n",
       "    <tr>\n",
       "      <th>LGD</th>\n",
       "      <td>136.212800</td>\n",
       "      <td>0.000000</td>\n",
       "      <td>54.336</td>\n",
       "      <td>0.000</td>\n",
       "      <td>136.212800</td>\n",
       "      <td>54.336</td>\n",
       "      <td>0.003020</td>\n",
       "      <td>0.411363</td>\n",
       "      <td>0.164095</td>\n",
       "      <td>0.247268</td>\n",
       "      <td>0.247268</td>\n",
       "    </tr>\n",
       "    <tr>\n",
       "      <th>PHBL</th>\n",
       "      <td>0.000000</td>\n",
       "      <td>0.305379</td>\n",
       "      <td>0.000</td>\n",
       "      <td>0.000</td>\n",
       "      <td>-0.305379</td>\n",
       "      <td>0.000</td>\n",
       "      <td>-0.703960</td>\n",
       "      <td>0.214975</td>\n",
       "      <td>0.000000</td>\n",
       "      <td>0.214975</td>\n",
       "      <td>0.214975</td>\n",
       "    </tr>\n",
       "    <tr>\n",
       "      <th>OECCS</th>\n",
       "      <td>307.300156</td>\n",
       "      <td>0.000000</td>\n",
       "      <td>798.858</td>\n",
       "      <td>0.000</td>\n",
       "      <td>307.300156</td>\n",
       "      <td>798.858</td>\n",
       "      <td>-0.000280</td>\n",
       "      <td>-0.086044</td>\n",
       "      <td>-0.223680</td>\n",
       "      <td>0.137636</td>\n",
       "      <td>0.137636</td>\n",
       "    </tr>\n",
       "    <tr>\n",
       "      <th>CPSES</th>\n",
       "      <td>2465.700000</td>\n",
       "      <td>0.000000</td>\n",
       "      <td>1201.595</td>\n",
       "      <td>1.370</td>\n",
       "      <td>2465.700000</td>\n",
       "      <td>1200.225</td>\n",
       "      <td>0.000105</td>\n",
       "      <td>0.246570</td>\n",
       "      <td>0.119995</td>\n",
       "      <td>0.126575</td>\n",
       "      <td>0.126575</td>\n",
       "    </tr>\n",
       "    <tr>\n",
       "      <th>STRS</th>\n",
       "      <td>0.000000</td>\n",
       "      <td>1.425104</td>\n",
       "      <td>0.000</td>\n",
       "      <td>1.290</td>\n",
       "      <td>-1.425104</td>\n",
       "      <td>-1.290</td>\n",
       "      <td>-0.639230</td>\n",
       "      <td>0.910969</td>\n",
       "      <td>0.824607</td>\n",
       "      <td>0.086363</td>\n",
       "      <td>0.086363</td>\n",
       "    </tr>\n",
       "    <tr>\n",
       "      <th>MCSES</th>\n",
       "      <td>722.508132</td>\n",
       "      <td>0.000000</td>\n",
       "      <td>0.000</td>\n",
       "      <td>0.000</td>\n",
       "      <td>722.508132</td>\n",
       "      <td>0.000</td>\n",
       "      <td>0.000110</td>\n",
       "      <td>0.079476</td>\n",
       "      <td>0.000000</td>\n",
       "      <td>0.079476</td>\n",
       "      <td>0.079476</td>\n",
       "    </tr>\n",
       "    <tr>\n",
       "      <th>CTZ</th>\n",
       "      <td>0.000000</td>\n",
       "      <td>436.800000</td>\n",
       "      <td>0.000</td>\n",
       "      <td>842.747</td>\n",
       "      <td>-436.800000</td>\n",
       "      <td>-842.747</td>\n",
       "      <td>0.000180</td>\n",
       "      <td>-0.078624</td>\n",
       "      <td>-0.151694</td>\n",
       "      <td>0.073070</td>\n",
       "      <td>0.073070</td>\n",
       "    </tr>\n",
       "    <tr>\n",
       "      <th>NUECES_B</th>\n",
       "      <td>257.689299</td>\n",
       "      <td>0.000000</td>\n",
       "      <td>0.000</td>\n",
       "      <td>0.000</td>\n",
       "      <td>257.689299</td>\n",
       "      <td>0.000</td>\n",
       "      <td>0.000240</td>\n",
       "      <td>0.061845</td>\n",
       "      <td>0.000000</td>\n",
       "      <td>0.061845</td>\n",
       "      <td>0.061845</td>\n",
       "    </tr>\n",
       "    <tr>\n",
       "      <th>SANMIGL</th>\n",
       "      <td>220.499372</td>\n",
       "      <td>0.000000</td>\n",
       "      <td>0.000</td>\n",
       "      <td>0.000</td>\n",
       "      <td>220.499372</td>\n",
       "      <td>0.000</td>\n",
       "      <td>0.000284</td>\n",
       "      <td>0.059535</td>\n",
       "      <td>0.000000</td>\n",
       "      <td>0.059535</td>\n",
       "      <td>0.059535</td>\n",
       "    </tr>\n",
       "  </tbody>\n",
       "</table>\n",
       "</div>"
      ],
      "text/plain": [
       "                 pg_p        pl_p      pg_r     pl_r    net_inj_p  net_inj_r  \\\n",
       "name                                                                           \n",
       "APPALOSA     0.000000    0.000000   161.757    0.000     0.000000    161.757   \n",
       "LGD        136.212800    0.000000    54.336    0.000   136.212800     54.336   \n",
       "PHBL         0.000000    0.305379     0.000    0.000    -0.305379      0.000   \n",
       "OECCS      307.300156    0.000000   798.858    0.000   307.300156    798.858   \n",
       "CPSES     2465.700000    0.000000  1201.595    1.370  2465.700000   1200.225   \n",
       "STRS         0.000000    1.425104     0.000    1.290    -1.425104     -1.290   \n",
       "MCSES      722.508132    0.000000     0.000    0.000   722.508132      0.000   \n",
       "CTZ          0.000000  436.800000     0.000  842.747  -436.800000   -842.747   \n",
       "NUECES_B   257.689299    0.000000     0.000    0.000   257.689299      0.000   \n",
       "SANMIGL    220.499372    0.000000     0.000    0.000   220.499372      0.000   \n",
       "\n",
       "          exposure  impact_p  impact_r  impact_diff  abs_impact_diff  \n",
       "name                                                                  \n",
       "APPALOSA -0.009430  0.000000 -1.525369     1.525369         1.525369  \n",
       "LGD       0.003020  0.411363  0.164095     0.247268         0.247268  \n",
       "PHBL     -0.703960  0.214975  0.000000     0.214975         0.214975  \n",
       "OECCS    -0.000280 -0.086044 -0.223680     0.137636         0.137636  \n",
       "CPSES     0.000105  0.246570  0.119995     0.126575         0.126575  \n",
       "STRS     -0.639230  0.910969  0.824607     0.086363         0.086363  \n",
       "MCSES     0.000110  0.079476  0.000000     0.079476         0.079476  \n",
       "CTZ       0.000180 -0.078624 -0.151694     0.073070         0.073070  \n",
       "NUECES_B  0.000240  0.061845  0.000000     0.061845         0.061845  \n",
       "SANMIGL   0.000284  0.059535  0.000000     0.059535         0.059535  "
      ]
     },
     "execution_count": 341,
     "metadata": {},
     "output_type": "execute_result"
    }
   ],
   "source": [
    "dffa.sort_values(\"impact_diff\", ascending=False).head(10)"
   ]
  },
  {
   "cell_type": "code",
   "execution_count": 342,
   "id": "cf5ca62d-184c-4462-ab64-76b3b1e81809",
   "metadata": {},
   "outputs": [
    {
     "data": {
      "text/plain": [
       "<AxesSubplot: xlabel='timestamp'>"
      ]
     },
     "execution_count": 342,
     "metadata": {},
     "output_type": "execute_result"
    },
    {
     "data": {
      "image/png": "[encoded data removed]",
      "text/plain": [
       "<Figure size 1000x700 with 1 Axes>"
      ]
     },
     "metadata": {},
     "output_type": "display_data"
    }
   ],
   "source": [
    "dfm[dfm.name == \"AMOCOOIL\"].groupby(\"timestamp\").sum()[[\"pl\", \"pg\"]].plot(grid=True)"
   ]
  },
  {
   "cell_type": "code",
   "execution_count": null,
   "id": "ef8687f1-b80b-446b-8934-ee3302ac2c7e",
   "metadata": {},
   "outputs": [],
   "source": []
  }
 ],
 "metadata": {
  "kernelspec": {
   "display_name": "Python 3 (ipykernel)",
   "language": "python",
   "name": "python3"
  },
  "language_info": {
   "codemirror_mode": {
    "name": "ipython",
    "version": 3
   },
   "file_extension": ".py",
   "mimetype": "text/x-python",
   "name": "python",
   "nbconvert_exporter": "python",
   "pygments_lexer": "ipython3",
   "version": "3.12.2"
  }
 },
 "nbformat": 4,
 "nbformat_minor": 5
}
